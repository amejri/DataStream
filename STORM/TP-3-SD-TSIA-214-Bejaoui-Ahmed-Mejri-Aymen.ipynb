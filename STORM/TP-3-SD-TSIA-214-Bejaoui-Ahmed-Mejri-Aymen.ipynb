{
 "cells": [
  {
   "cell_type": "markdown",
   "metadata": {},
   "source": [
    "# TP 3 : Text segmentation using Hidden Markov Models <br>BEJAOUI AHMED - MEJRI AYMEN"
   ]
  },
  {
   "cell_type": "markdown",
   "metadata": {},
   "source": [
    "### Question 1  : Give the value of the π vector of the initial probabilities¶"
   ]
  },
  {
   "cell_type": "markdown",
   "metadata": {},
   "source": [
    "Etant donnée que l'état initial de départ est l'entête nous constatons donc que le vecteur d'initialisation  : $$\\pi=[1,0]$$"
   ]
  },
  {
   "cell_type": "markdown",
   "metadata": {},
   "source": [
    "### Question 2 : What is the probability to move from state 1 to state 2 ? What is the probability to remain in state 2 ? What is the lower/higher probability ? Try to explain why"
   ]
  },
  {
   "cell_type": "markdown",
   "metadata": {},
   "source": [
    "$$ A = \\begin{bmatrix} \n",
    "0.999218078035812 & 0.000781921964187974 \\\\\n",
    "0 & 1\n",
    "\\end{bmatrix}$$\n",
    "\n",
    "Disposant de la matrice A , nous pouvons conclure que la probabilité de  passer de l'état 1 vers l'état 2 correspond à $A_{12}=0.000781921964187974$  et la probabilité de rester dans l'état 2 est  $A_{22}=1$\n",
    "<br>\n",
    "la plus faible probabilité est est p(2|1) = 0 ce qui est tout à fait prévisible parce que nous ne pouvons pas passer à l'état 1 header lorsque nous nous trouvons à l'état 2 (corps du mail) .\n",
    "<br>\n",
    "La plus grande probabilité est p(2|2) = 1 c'est à dire lorsque nous sommes dans l'état 2 (corps du mail), nous y restons \n"
   ]
  },
  {
   "cell_type": "markdown",
   "metadata": {},
   "source": [
    "### Question 3 : What is the size of the corresponding matrix ?"
   ]
  },
  {
   "cell_type": "markdown",
   "metadata": {},
   "source": [
    "La taille de la matrice est 256x2 . En effet nous avons 256 caractères possibles dans le code ASCII donc nous avons 256 lignes dans la matrice et nous disposons seulement de 2 états possible qui sont s=1 et s=2 donc nous avons 2 colonnes ."
   ]
  },
  {
   "cell_type": "markdown",
   "metadata": {},
   "source": [
    "### Question 4 : Print the track and present and discuss the results obtained on mail11.txt to mail30.txt"
   ]
  },
  {
   "cell_type": "code",
   "execution_count": 1,
   "metadata": {},
   "outputs": [
    {
     "data": {
      "text/plain": [
       "30"
      ]
     },
     "execution_count": 1,
     "metadata": {},
     "output_type": "execute_result"
    }
   ],
   "source": [
    "from glob import glob\n",
    "import os.path as op\n",
    "import numpy as np\n",
    "\n",
    "filenames = sorted(glob(op.join('dat','*.dat')))\n",
    "texts_pred = [np.loadtxt(f,dtype=int) for f in filenames]\n",
    "len(texts_pred)"
   ]
  },
  {
   "cell_type": "markdown",
   "metadata": {},
   "source": [
    "#### Initialisation :"
   ]
  },
  {
   "cell_type": "code",
   "execution_count": 2,
   "metadata": {
    "collapsed": true
   },
   "outputs": [],
   "source": [
    "A=np.zeros((2,2))\n",
    "A[0,0]=0.999218078035812; A[0,1]=0.000781921964187974 ; A[1,0]=0 ; A[1,1]=1\n",
    "B = np.loadtxt('P.text', dtype=float)\n",
    "pi=[1,0]\n",
    "q=[0,1]"
   ]
  },
  {
   "cell_type": "markdown",
   "metadata": {},
   "source": [
    "#### La Fonction Viterbi :"
   ]
  },
  {
   "cell_type": "code",
   "execution_count": 3,
   "metadata": {
    "collapsed": true
   },
   "outputs": [],
   "source": [
    "def Viterbi_function(A,B,pi,O,q):\n",
    "    \"\"\"\n",
    "    Input : \n",
    "    \n",
    "    A : Matrice de transition des différents états\n",
    "    B : Matrice de transition des observations sachant les états\n",
    "    pi: vecteur d'initialisation \n",
    "    O : vecteur des observations \n",
    "    q : Vecteur des différents états possibles\n",
    "    \n",
    "    Output:\n",
    "    \n",
    "    qhat : la séquence d'état prédite.\n",
    "    \n",
    "    \"\"\"\n",
    "    \n",
    "    dl=np.zeros((len(q),len(O)))\n",
    "    phi=np.zeros((len(q),len(O)))\n",
    "    \n",
    "    inter=0\n",
    "    qhT=0\n",
    "    \n",
    "    for i in range(len(q)):\n",
    "        dl[i,0]=B[O[0],i]*pi[i]\n",
    "    \n",
    "    for t in range(len(O)-1):\n",
    "        for j in range(len(q)):\n",
    "            inter=np.max([A[i,j]*dl[i,t] for i in range(len(q))])\n",
    "            dl[j,t+1]=inter*B[O[t+1],j]\n",
    "            phi[j,t+1]=np.argmax([A[i,j]*dl[i,t] for i in range(len(q))])\n",
    "        dl[:,t+1] = dl[:,t+1]*(10**(-1*(int(np.log10(np.max(dl[:,t+1])))+1)))\n",
    "    qh=np.array([])\n",
    "    qhT=np.argmax([dl[j,len(O)-1] for j in range(len(q))])\n",
    "    qh=np.append(qhT,qh)\n",
    "    for i in range (len(O)-1,0,-1):\n",
    "        qhT=int(qhT)\n",
    "        qhT=phi[qhT,i]\n",
    "        qh=np.append(qhT,qh)\n",
    "        qh=np.array([int(i) for i in qh])\n",
    "    return qh"
   ]
  },
  {
   "cell_type": "markdown",
   "metadata": {},
   "source": [
    "#### Etude de la performance de l'algorithme:"
   ]
  },
  {
   "cell_type": "code",
   "execution_count": 4,
   "metadata": {
    "collapsed": true
   },
   "outputs": [],
   "source": [
    "filenames = sorted(glob(op.join( 'dat', '*.txt')))\n",
    "train = [len(open(f).read()) for f in filenames if f.rstrip().endswith(\"h.txt\")]\n",
    "texts = [np.loadtxt(f.rstrip().replace(\"h.txt\",\".dat\"),dtype=\"int\") for f in filenames if f.rstrip().endswith(\"h.txt\")]\n",
    "state_pred=np.array([])\n",
    "for text in texts:\n",
    "    state_pred=np.append(state_pred,np.bincount(Viterbi_function(A,B,pi,text,q))[0])\n",
    "\n",
    "score=np.array([])\n",
    "score=1-np.abs(train-state_pred)/state_pred"
   ]
  },
  {
   "cell_type": "code",
   "execution_count": 5,
   "metadata": {
    "collapsed": true
   },
   "outputs": [],
   "source": [
    "states_pred=np.array([])\n",
    "for text in texts_pred:\n",
    "    states_pred=np.append(states_pred,np.bincount(Viterbi_function(A,B,pi,text,q))[0])"
   ]
  },
  {
   "cell_type": "code",
   "execution_count": 6,
   "metadata": {},
   "outputs": [
    {
     "name": "stdout",
     "output_type": "stream",
     "text": [
      "L'algorithme a une précision de :  0.983381544512\n"
     ]
    }
   ],
   "source": [
    "print('L\\'algorithme a une précision de : ',score.mean())"
   ]
  },
  {
   "cell_type": "markdown",
   "metadata": {},
   "source": [
    "#### initialisation sur un ensemble de texte de mail11 jusqu'à mail30 : "
   ]
  },
  {
   "cell_type": "markdown",
   "metadata": {},
   "source": [
    "nous prenons ici les deux fichiers mail11.txt et mail30.txt pour ces deux fichiers nous avons respectivement 2850 et 2249 caractères dans le header. nous avons déterminer ces résultat en regarder le texte avec wordPad.\n"
   ]
  },
  {
   "cell_type": "code",
   "execution_count": 7,
   "metadata": {
    "collapsed": true
   },
   "outputs": [],
   "source": [
    "train=[2850,2249]\n",
    "state_pred=np.array([])\n",
    "O1= np.loadtxt('dat/mail11.dat',dtype=int)\n",
    "O2= np.loadtxt('dat/mail30.dat',dtype=int)\n",
    "state_pred=np.append(state_pred,np.bincount(Viterbi_function(A,B,pi,O1,q))[0])\n",
    "state_pred=np.append(state_pred,np.bincount(Viterbi_function(A,B,pi,O2,q))[0])\n",
    "score=np.array([])\n",
    "score=1-np.abs(train-state_pred)/state_pred"
   ]
  },
  {
   "cell_type": "code",
   "execution_count": 8,
   "metadata": {},
   "outputs": [
    {
     "name": "stdout",
     "output_type": "stream",
     "text": [
      "L'algorithme a une précision de :  0.982337278255\n"
     ]
    }
   ],
   "source": [
    "print('L\\'algorithme a une précision de : ',score.mean())"
   ]
  },
  {
   "cell_type": "markdown",
   "metadata": {},
   "source": [
    "#### Visualisation sur un texte : "
   ]
  },
  {
   "cell_type": "markdown",
   "metadata": {},
   "source": [
    "Pour la visualisation du texte nous avons eu un problème avec la commande perl. Nous avons donc choisi de développer notre propre fonction."
   ]
  },
  {
   "cell_type": "code",
   "execution_count": 9,
   "metadata": {
    "collapsed": true
   },
   "outputs": [],
   "source": [
    "def segment(path,file_name,size=None):\n",
    "    text=None\n",
    "    with open(file_name) as f:\n",
    "        text=f.read()\n",
    "    n =np.argmax(path)\n",
    "    a=0\n",
    "    b=len(text)\n",
    "    if size != None:\n",
    "        a=max(0,n-size)\n",
    "        b=min(len(text),n+size)\n",
    "    print(text[a:n]+ '\\n================================== coupez ici ==============================\\n'+text[n:b])\n",
    "    return None"
   ]
  },
  {
   "cell_type": "code",
   "execution_count": 10,
   "metadata": {},
   "outputs": [
    {
     "name": "stdout",
     "output_type": "stream",
     "text": [
      "From ilug-admin@linux.ie  Thu Aug 22 16:27:21 2002\n",
      "Return-Path: <ilug-admin@linux.ie>\n",
      "Delivered-To: zzzz@localhost.netnoteinc.com\n",
      "Received: from localhost (localhost [127.0.0.1])\n",
      "\tby phobos.labs.netnoteinc.com (Postfix) with ESMTP id 7A28A43F99\n",
      "\tfor <zzzz@localhost>; Thu, 22 Aug 2002 11:27:21 -0400 (EDT)\n",
      "Received: from phobos [127.0.0.1]\n",
      "\tby localhost with IMAP (fetchmail-5.9.0)\n",
      "\tfor zzzz@localhost (single-drop); Thu, 22 Aug 2002 16:27:21 +0100 (IST)\n",
      "Received: from lugh.tuatha.org (root@lugh.tuatha.org [194.125.145.45]) by\n",
      "    dogma.slashnull.org (8.11.6/8.11.6) with ESMTP id g7MFQmZ12280 for\n",
      "    <zzzz-ilug@spamassassin.taint.org>; Thu, 22 Aug 2002 16:26:48 +0100\n",
      "Received: from lugh (root@localhost [127.0.0.1]) by lugh.tuatha.org\n",
      "    (8.9.3/8.9.3) with ESMTP id QAA07188; Thu, 22 Aug 2002 16:25:32 +0100\n",
      "Received: from moe.jinny.ie ([193.120.171.3]) by lugh.tuatha.org\n",
      "    (8.9.3/8.9.3) with ESMTP id QAA07145 for <ilug@linux.ie>; Thu,\n",
      "    22 Aug 2002 16:25:24 +0100\n",
      "X-Authentication-Warning: lugh.tuatha.org: Host [193.120.171.3] claimed to\n",
      "    be moe.jinny.ie\n",
      "Received: from jlooney.jinny.ie (unknown [193.120.171.2]) by moe.jinny.ie\n",
      "    (Postfix) with ESMTP id 938BD7FC46; Thu, 22 Aug 2002 16:25:23 +0100 (IST)\n",
      "Received: by jlooney.jinny.ie (Postfix, from userid 500) id 4F57189D;\n",
      "    Thu, 22 Aug 2002 16:25:45 +0100 (IST)\n",
      "Date: Thu, 22 Aug 2002 16:25:45 +0100\n",
      "From: \"John P. Looney\" <valen@tuatha.org>\n",
      "To: linux-raid@vger.kernel.org\n",
      "Cc: ilug@linux.ie\n",
      "Message-Id: <20020822152545.GJ3670@jinny.ie>\n",
      "Reply-To: valen@tuatha.org\n",
      "Mail-Followup-To: linux-raid@vger.kernel.org, ilug@linux.ie\n",
      "References: <200208172056.g7HKuHm05754@raq.iceblink.org>\n",
      "    <1029624922.14769.119.camel@atherton> <20020819140815.GY26818@jinny.ie>\n",
      "MIME-Version: 1.0\n",
      "Content-Type: text/plain; charset=us-ascii\n",
      "Content-Disposition: inline\n",
      "In-Reply-To: <20020819140815.GY26818@jinny.ie>\n",
      "User-Agent: Mutt/1.4i\n",
      "X-Os: Red Hat Linux 7.3/Linux 2.4.18-3\n",
      "X-Url: http://www.redbrick.dcu.ie/~valen\n",
      "X-Gnupg-Publickey: http://www.redbrick.dcu.ie/~valen/public.asc\n",
      "Subject: [ILUG] Re: Problems with RAID1 on cobalt raq3\n",
      "Sender: ilug-admin@linux.ie\n",
      "Errors-To: ilug-admin@linux.ie\n",
      "X-Mailman-Version: 1.1\n",
      "Precedence: bulk\n",
      "List-Id: Irish Linux Users' Group <ilug.linux.ie>\n",
      "X-Beenthere: ilug@linux.ie\n",
      "\n",
      "On Mon, Aug 19, 2002 at 03:08:16PM +0100\n",
      "================================== coupez ici ==============================\n",
      ", John P. Looney mentioned:\n",
      ">  This is likely because to get it to boot, like the cobalt, I'm actually\n",
      "> passing root=/dev/hda5 to the kernel, not /dev/md0. \n",
      "\n",
      " Just to solve this...the reason I was booting the box with\n",
      "root=/dev/hda5, not /dev/md0 was because /dev/md0 wasn't booting - it\n",
      "would barf with 'can't find init'.\n",
      "\n",
      " It turns out that this is because I was populating md0 with tar. Which\n",
      "seems to have 'issues' with crosslinked files - for instance, it was\n",
      "trying to make a hard link of glibc.so to hda - and failing. It was only\n",
      "as I did it again with a friend present, that he spotted the errors, and\n",
      "queried them. We noticed that the hard linked files just didn't exist on\n",
      "the new rootfs.\n",
      "\n",
      " When we duplicated the filesystems with dump instead of tar, it worked\n",
      "fine, I was able to tell lilo to use root=/dev/md0 and everything worked.\n",
      "\n",
      " Woohoo.\n",
      "\n",
      "Kate\n",
      "\n",
      "\n",
      "-- \n",
      "Irish Linux Users' Group: ilug@linux.ie\n",
      "http://www.linux.ie/mailman/listinfo/ilug for (un)subscription information.\n",
      "List maintainer: listmaster@linux.ie\n",
      "\n",
      "\n"
     ]
    }
   ],
   "source": [
    "O2= np.loadtxt('dat/mail13.dat',dtype=int)\n",
    "segment(Viterbi_function(A,B,pi,O2,q),'dat/mail13.txt')"
   ]
  },
  {
   "cell_type": "markdown",
   "metadata": {},
   "source": [
    "### Question 5 : How would you model the problem if you had to segment the mails in more than two parts (for example : header, body, signature) ?"
   ]
  },
  {
   "cell_type": "markdown",
   "metadata": {},
   "source": [
    "On utilisera dans ce cas aussi le model HMM mais l'entrée de l'algorithme est différente : l'espace d'état sera de taille 3 qui prendra les valeurs suivantes : header(=0),body(=1),et signature(=2) et le vecteur d'initialisation est de dimention 3 qui commence toujours par le header et par conséquent $\\pi = (1,0,0)$ \n",
    "\n",
    "Concernant la matrice de transition A, elle est de taille 3x3 et telle que $A_{13}=0$ , $A_{21}=0$,$A_{13}=0$ et $A_{23}=0$\n",
    "\n",
    "$$ A = \\begin{bmatrix} \n",
    "A_{11} & A_{12} & 0 \\\\\n",
    "0 & A_{22} & A_{23} \\\\\n",
    "0 & 0 & 1\n",
    "\\end{bmatrix}$$\n",
    "\n",
    "et la matrice B  qui représente la matrice des probabilités $P(c|s)$ devient une matrice de taille 256x3 ."
   ]
  },
  {
   "cell_type": "markdown",
   "metadata": {},
   "source": [
    "### Question 6 : How would you model the problem of separating the portions of mail included, knowing that they always start with the character \">\"."
   ]
  },
  {
   "cell_type": "markdown",
   "metadata": {
    "collapsed": true
   },
   "source": [
    "Pour cette question , nous aurons 4 etats possible qui sont : header,body_included ,body(le texte) et la signature . le vecteur d'initailisation $\\pi$ est de taille 4x1 : $$ \\pi=[1, 0, 0, 0]$$ \n",
    "La matrice de transition A est de dimension 4x4 :\n",
    "$$ A = \\begin{bmatrix} \n",
    "A_{11} & A_{12} & A_{12} & 0\\\\\n",
    "0 & A_{22} & A_{23} & A_{24}\\\\\n",
    "0 & A_{32} & A_{33} & A_{34}\\\\\n",
    "0 & 0 & 0 & 1\n",
    "\\end{bmatrix}$$\n",
    "\n",
    "la probabilité du caractère appartenant à l'état 3 est plus élevée par rapport aux autres états - cette information doit être incluse dans la matrice de probabilité conditionnelle B\n",
    "<br> La matrice B sera de taille 256x4."
   ]
  },
  {
   "cell_type": "code",
   "execution_count": null,
   "metadata": {
    "collapsed": true
   },
   "outputs": [],
   "source": []
  }
 ],
 "metadata": {
  "kernelspec": {
   "display_name": "Python 3",
   "language": "python",
   "name": "python3"
  },
  "language_info": {
   "codemirror_mode": {
    "name": "ipython",
    "version": 3
   },
   "file_extension": ".py",
   "mimetype": "text/x-python",
   "name": "python",
   "nbconvert_exporter": "python",
   "pygments_lexer": "ipython3",
   "version": "3.6.3"
  }
 },
 "nbformat": 4,
 "nbformat_minor": 2
}
