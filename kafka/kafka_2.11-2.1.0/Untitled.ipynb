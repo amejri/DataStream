{
 "cells": [
  {
   "cell_type": "code",
   "execution_count": 2,
   "metadata": {},
   "outputs": [
    {
     "name": "stdout",
     "output_type": "stream",
     "text": [
      "station =  {'number': 19, 'contract_name': 'Dublin', 'name': 'HERBERT PLACE', 'address': 'Herbert Place', 'position': {'lat': 53.334432, 'lng': -6.245575}, 'banking': False, 'bonus': False, 'bike_stands': 30, 'available_bike_stands': 30, 'available_bikes': 0, 'status': 'OPEN', 'last_update': 1551386489000}\n",
      "\n",
      "station =  {'number': 5058, 'contract_name': 'Marseille', 'name': '5058 -SAKAKINI - SAINT PIERRE', 'address': 'SAKAKINI SAINT PIERRE - BOULEVARD SAKAKINI ANGLE RUE SAINT PIERRE', 'position': {'lat': 43.292800863545835, 'lng': 5.401285286456447}, 'banking': True, 'bonus': False, 'bike_stands': 10, 'available_bike_stands': 10, 'available_bikes': 0, 'status': 'OPEN', 'last_update': 1551386475000}\n",
      "\n",
      "station =  {'number': 3038, 'contract_name': 'Lyon', 'name': '3038 - VIVIER MERLE / PAUL BERT', 'address': 'Devant le bâtiment de la CAFAL', 'position': {'lat': 45.757415, 'lng': 4.858911}, 'banking': False, 'bonus': False, 'bike_stands': 40, 'available_bike_stands': 39, 'available_bikes': 1, 'status': 'OPEN', 'last_update': 1551386518000}\n",
      "\n",
      "station =  {'number': 8, 'contract_name': 'Valence', 'name': '008_PLAZA_DE_LA_REINA_ESQUINA_CALLE_DEL_MAR', 'address': 'Plaza de la Reina - Mar', 'position': {'lat': 39.47428810857441, 'lng': -0.375175098086736}, 'banking': True, 'bonus': False, 'bike_stands': 23, 'available_bike_stands': 21, 'available_bikes': 1, 'status': 'OPEN', 'last_update': 1551386552000}\n",
      "\n",
      "station =  {'number': 164, 'contract_name': 'Seville', 'name': '164_CALLE LUIS MONTOTO', 'address': 'CALLE LUIS MONTOTO - Aprox. C/ El Greco', 'position': {'lat': 37.387649350924015, 'lng': -5.965655252045698}, 'banking': True, 'bonus': False, 'bike_stands': 19, 'available_bike_stands': 18, 'available_bikes': 1, 'status': 'OPEN', 'last_update': 1551386526000}\n",
      "\n",
      "station =  {'number': 69, 'contract_name': 'Dublin', 'name': 'GRAND CANAL DOCK', 'address': 'Grand Canal Dock', 'position': {'lat': 53.342638, 'lng': -6.238695}, 'banking': False, 'bonus': False, 'bike_stands': 40, 'available_bike_stands': 40, 'available_bikes': 0, 'status': 'OPEN', 'last_update': 1551386541000}\n",
      "\n",
      "station =  {'number': 65, 'contract_name': 'Dublin', 'name': 'CONVENTION CENTRE', 'address': 'Convention Centre', 'position': {'lat': 53.34744, 'lng': -6.238523}, 'banking': True, 'bonus': False, 'bike_stands': 40, 'available_bike_stands': 40, 'available_bikes': 0, 'status': 'OPEN', 'last_update': 1551386539000}\n",
      "\n",
      "station =  {'number': 78, 'contract_name': 'Nantes', 'name': '#00078-DE GAULLE', 'address': '7, rue Françoise Giroud - Boulevard Général de Gaulle', 'position': {'lat': 47.2084436771829, 'lng': -1.54051448829019}, 'banking': False, 'bonus': False, 'bike_stands': 21, 'available_bike_stands': 19, 'available_bikes': 2, 'status': 'OPEN', 'last_update': 1551386571000}\n",
      "\n",
      "station =  {'number': 3007, 'contract_name': 'Lyon', 'name': \"3007 - PLACE D'ARSONVAL (FAR)\", 'address': 'A côté du stand de fleurs', 'position': {'lat': 45.743396, 'lng': 4.87897}, 'banking': True, 'bonus': False, 'bike_stands': 32, 'available_bike_stands': 30, 'available_bikes': 0, 'status': 'OPEN', 'last_update': 1551386558000}\n",
      "\n",
      "station =  {'number': 5106, 'contract_name': 'Marseille', 'name': '5106-JEAN MOULIN BAILLE', 'address': 'JEAN MOULIN BAILLE - BOULEVARD JEAN  MOULIN ANGLE BOULEVARD BAILLE', 'position': {'lat': 43.2902407800378, 'lng': 5.39960982405674}, 'banking': True, 'bonus': False, 'bike_stands': 15, 'available_bike_stands': 14, 'available_bikes': 1, 'status': 'OPEN', 'last_update': 1551386572000}\n",
      "\n",
      "station =  {'number': 19, 'contract_name': 'Brisbane', 'name': '19 - GARDENS POINT ROAD / ADJ. BRIDGE', 'address': 'Gardens Point Rd / Adj. Bridge', 'position': {'lat': -27.479004, 'lng': 153.028853}, 'banking': True, 'bonus': False, 'bike_stands': 20, 'available_bike_stands': 19, 'available_bikes': 1, 'status': 'OPEN', 'last_update': 1551386586000}\n",
      "\n"
     ]
    },
    {
     "ename": "KeyboardInterrupt",
     "evalue": "",
     "output_type": "error",
     "traceback": [
      "\u001b[0;31m---------------------------------------------------------------------------\u001b[0m",
      "\u001b[0;31mKeyboardInterrupt\u001b[0m                         Traceback (most recent call last)",
      "\u001b[0;32m<ipython-input-2-b35704b0e878>\u001b[0m in \u001b[0;36m<module>\u001b[0;34m\u001b[0m\n\u001b[1;32m     31\u001b[0m         \u001b[0mavailable_bikes\u001b[0m\u001b[0;34m[\u001b[0m\u001b[0mkey\u001b[0m\u001b[0;34m]\u001b[0m \u001b[0;34m=\u001b[0m \u001b[0mcurrent_available_bike\u001b[0m\u001b[0;34m\u001b[0m\u001b[0m\n\u001b[1;32m     32\u001b[0m \u001b[0;34m\u001b[0m\u001b[0m\n\u001b[0;32m---> 33\u001b[0;31m     \u001b[0mtime\u001b[0m\u001b[0;34m.\u001b[0m\u001b[0msleep\u001b[0m\u001b[0;34m(\u001b[0m\u001b[0;36m1\u001b[0m\u001b[0;34m)\u001b[0m\u001b[0;34m\u001b[0m\u001b[0m\n\u001b[0m\u001b[1;32m     34\u001b[0m \u001b[0mi\u001b[0m \u001b[0;34m+=\u001b[0m \u001b[0;36m1\u001b[0m\u001b[0;34m\u001b[0m\u001b[0m\n",
      "\u001b[0;31mKeyboardInterrupt\u001b[0m: "
     ]
    }
   ],
   "source": [
    "import json\n",
    "import time\n",
    "import urllib.request\n",
    "\n",
    "# Run `pip install kafka-python` to install this package\n",
    "from kafka import KafkaProducer\n",
    "\n",
    "API_KEY = \"2b0492eff8eb9d000e0d6ba70a3202d35ac3b6ce\" # FIXME\n",
    "url = \"https://api.jcdecaux.com/vls/v1/stations?apiKey={}\".format(API_KEY)\n",
    "\n",
    "producer = KafkaProducer(bootstrap_servers=\"localhost:9092\")\n",
    "\n",
    "available_bikes = {}\n",
    "i=0\n",
    "while True:\n",
    "    response = urllib.request.urlopen(url)\n",
    "    stations = json.loads(response.read().decode())\n",
    "    for station in stations:\n",
    "        current_available_bike = station['available_bikes']\n",
    "        key = \"{},{}\".format(station[\"number\"], station[\"contract_name\"])\n",
    "        if key not in available_bikes:\n",
    "            available_bikes[key] = current_available_bike\n",
    "\n",
    "        if ( current_available_bike == 0 and available_bikes[key] > 0 ) or \\\n",
    "           ( current_available_bike > 0 and available_bikes[key] == 0):\n",
    "\n",
    "            print('station = ',station)\n",
    "            producer.send(\"empty-stations\",\n",
    "                          json.dumps(station).encode())\n",
    "            print()\n",
    "        available_bikes[key] = current_available_bike\n",
    "\n",
    "    time.sleep(1)\n",
    "i += 1"
   ]
  },
  {
   "cell_type": "code",
   "execution_count": null,
   "metadata": {},
   "outputs": [],
   "source": []
  }
 ],
 "metadata": {
  "kernelspec": {
   "display_name": "Python [default]",
   "language": "python",
   "name": "python3"
  },
  "language_info": {
   "codemirror_mode": {
    "name": "ipython",
    "version": 3
   },
   "file_extension": ".py",
   "mimetype": "text/x-python",
   "name": "python",
   "nbconvert_exporter": "python",
   "pygments_lexer": "ipython3",
   "version": "3.6.6"
  },
  "latex_envs": {
   "LaTeX_envs_menu_present": true,
   "autoclose": false,
   "autocomplete": true,
   "bibliofile": "biblio.bib",
   "cite_by": "apalike",
   "current_citInitial": 1,
   "eqLabelWithNumbers": true,
   "eqNumInitial": 1,
   "hotkeys": {
    "equation": "Ctrl-E",
    "itemize": "Ctrl-I"
   },
   "labels_anchors": false,
   "latex_user_defs": false,
   "report_style_numbering": false,
   "user_envs_cfg": false
  },
  "nbTranslate": {
   "displayLangs": [
    "en",
    "fr"
   ],
   "hotkey": "alt-t",
   "langInMainMenu": true,
   "sourceLang": "fr",
   "targetLang": "en",
   "useGoogleTranslate": true
  },
  "varInspector": {
   "cols": {
    "lenName": 16,
    "lenType": 16,
    "lenVar": 40
   },
   "kernels_config": {
    "python": {
     "delete_cmd_postfix": "",
     "delete_cmd_prefix": "del ",
     "library": "var_list.py",
     "varRefreshCmd": "print(var_dic_list())"
    },
    "r": {
     "delete_cmd_postfix": ") ",
     "delete_cmd_prefix": "rm(",
     "library": "var_list.r",
     "varRefreshCmd": "cat(var_dic_list()) "
    }
   },
   "types_to_exclude": [
    "module",
    "function",
    "builtin_function_or_method",
    "instance",
    "_Feature"
   ],
   "window_display": false
  }
 },
 "nbformat": 4,
 "nbformat_minor": 2
}
